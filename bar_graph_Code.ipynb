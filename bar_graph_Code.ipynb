{
 "cells": [
  {
   "cell_type": "code",
   "execution_count": 17,
   "metadata": {},
   "outputs": [],
   "source": [
    "import numpy as np\n",
    "import matplotlib.pyplot as plt\n",
    "import pandas as pd"
   ]
  },
  {
   "cell_type": "code",
   "execution_count": 18,
   "metadata": {},
   "outputs": [],
   "source": [
    "S9_data = pd.read_csv('Samsung S9/data.csv')\n",
    "X_data = pd.read_csv('Iphone X/data.csv')\n",
    "S9_data.dropna(inplace=True)\n",
    "X_data.dropna(inplace=True)"
   ]
  },
  {
   "cell_type": "code",
   "execution_count": 19,
   "metadata": {},
   "outputs": [],
   "source": [
    "tot_s9 = S9_data.shape[0]\n",
    "tot_x = X_data.shape[0]\n",
    "neg_s9 = ((S9_data[S9_data['Rating']<3]).shape[0]/tot_s9)*100\n",
    "neut_s9 =  ((S9_data[S9_data['Rating']==3]).shape[0]/tot_s9)*100\n",
    "pos_s9 = ((S9_data[S9_data['Rating']>3]).shape[0]/tot_s9)*100\n",
    "neg_x = ((X_data[X_data['Rating']<3]).shape[0]/tot_x)*100\n",
    "neut_x =  ((X_data[X_data['Rating']==3]).shape[0]/tot_x)*100\n",
    "pos_x = ((X_data[X_data['Rating']>3]).shape[0]/tot_x)*100"
   ]
  },
  {
   "cell_type": "code",
   "execution_count": 20,
   "metadata": {},
   "outputs": [],
   "source": [
    "# data to plot\n",
    "n_groups = 3\n",
    "s9_percentages = (neg_s9,neut_s9,pos_s9)\n",
    "x_percentages = (neg_x,neut_x,pos_x)"
   ]
  },
  {
   "cell_type": "code",
   "execution_count": 40,
   "metadata": {
    "scrolled": false
   },
   "outputs": [
    {
     "data": {
      "image/png": "[encoded data removed]",
      "text/plain": [
       "<Figure size 432x288 with 1 Axes>"
      ]
     },
     "metadata": {},
     "output_type": "display_data"
    }
   ],
   "source": [
    "# create plot\n",
    "fig, ax = plt.subplots()\n",
    "index = np.arange(n_groups)\n",
    "bar_width = 0.35\n",
    "opacity = 0.8\n",
    " \n",
    "rects1 = plt.bar(index, s9_percentages, bar_width,\n",
    "                 alpha=opacity,\n",
    "                 color='blue',\n",
    "                 label='iPhone X')\n",
    " \n",
    "rects2 = plt.bar(index + bar_width, x_percentages, bar_width,\n",
    "                 alpha=opacity,\n",
    "                 color='crimson',\n",
    "                 label='Samsung S9')\n",
    " \n",
    "plt.xlabel('Category of Review')\n",
    "plt.ylabel('Percentage')\n",
    "plt.title('Comparison of reviews of S9 and X')\n",
    "plt.xticks(index + bar_width, ('Negative', 'Neutral', 'Positive'))\n",
    "plt.legend()\n",
    "plt.tight_layout()\n",
    "plt.savefig('bar_graph.png')"
   ]
  },
  {
   "cell_type": "code",
   "execution_count": null,
   "metadata": {},
   "outputs": [],
   "source": []
  }
 ],
 "metadata": {
  "kernelspec": {
   "display_name": "Python 3",
   "language": "python",
   "name": "python3"
  },
  "language_info": {
   "codemirror_mode": {
    "name": "ipython",
    "version": 3
   },
   "file_extension": ".py",
   "mimetype": "text/x-python",
   "name": "python",
   "nbconvert_exporter": "python",
   "pygments_lexer": "ipython3",
   "version": "3.6.5"
  }
 },
 "nbformat": 4,
 "nbformat_minor": 2
}
