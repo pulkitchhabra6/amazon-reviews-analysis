{
 "cells": [
  {
   "cell_type": "code",
   "execution_count": 21,
   "metadata": {},
   "outputs": [],
   "source": [
    "import numpy as np\n",
    "import pandas as pd\n",
    "from nltk.tokenize import word_tokenize"
   ]
  },
  {
   "cell_type": "code",
   "execution_count": 22,
   "metadata": {
    "scrolled": false
   },
   "outputs": [],
   "source": [
    "reviews=np.array(pd.read_csv('S9_neg_clean_reviews.csv')['text'])"
   ]
  },
  {
   "cell_type": "code",
   "execution_count": 23,
   "metadata": {},
   "outputs": [],
   "source": [
    "words=''\n",
    "for doc in reviews:\n",
    "    words += ' ' + doc\n",
    "words=words.strip()"
   ]
  },
  {
   "cell_type": "code",
   "execution_count": 27,
   "metadata": {},
   "outputs": [],
   "source": [
    "from collections import Counter"
   ]
  },
  {
   "cell_type": "code",
   "execution_count": 29,
   "metadata": {
    "scrolled": true
   },
   "outputs": [
    {
     "data": {
      "text/plain": [
       "[('phone', 158),\n",
       " ('samsung', 67),\n",
       " ('get', 53),\n",
       " ('screen', 51),\n",
       " ('use', 40),\n",
       " ('work', 39),\n",
       " ('one', 30),\n",
       " ('notification', 30),\n",
       " ('would', 27),\n",
       " ('good', 26),\n",
       " ('go', 24),\n",
       " ('buy', 24),\n",
       " ('iphone', 23),\n",
       " ('like', 22),\n",
       " ('much', 18),\n",
       " ('call', 18),\n",
       " ('verizon', 18),\n",
       " ('day', 17),\n",
       " ('try', 17),\n",
       " ('back', 17),\n",
       " ('way', 16),\n",
       " ('option', 16),\n",
       " ('even', 15),\n",
       " ('feature', 14),\n",
       " ('glass', 14),\n",
       " ('issue', 13),\n",
       " ('need', 13),\n",
       " ('receive', 13),\n",
       " ('problem', 13),\n",
       " ('turn', 13),\n",
       " ('battery', 12),\n",
       " ('well', 12),\n",
       " ('time', 12),\n",
       " ('camera', 12),\n",
       " ('thing', 12),\n",
       " ('star', 12),\n",
       " ('software', 12),\n",
       " ('also', 11),\n",
       " ('send', 11),\n",
       " ('apps', 11),\n",
       " ('make', 11),\n",
       " ('could', 11),\n",
       " ('galaxy', 11),\n",
       " ('want', 10),\n",
       " ('bad', 10),\n",
       " ('different', 10),\n",
       " ('show', 10),\n",
       " ('find', 10),\n",
       " ('know', 10),\n",
       " ('come', 10),\n",
       " ('model', 10),\n",
       " ('message', 10),\n",
       " ('google', 10),\n",
       " ('month', 9),\n",
       " ('new', 9),\n",
       " ('still', 9),\n",
       " ('see', 9),\n",
       " ('without', 9),\n",
       " ('terrible', 9),\n",
       " ('fix', 9),\n",
       " ('app', 9),\n",
       " ('android', 9),\n",
       " ('text', 9),\n",
       " ('people', 9),\n",
       " ('great', 9),\n",
       " ('case', 9),\n",
       " ('week', 8),\n",
       " ('ever', 8),\n",
       " ('switch', 8),\n",
       " ('update', 8),\n",
       " ('bixby', 8),\n",
       " ('break', 8),\n",
       " ('lg', 8),\n",
       " ('miss', 7),\n",
       " ('two', 7),\n",
       " ('life', 7),\n",
       " ('must', 7),\n",
       " ('box', 7),\n",
       " ('signal', 7),\n",
       " ('purchase', 7),\n",
       " ('service', 7),\n",
       " ('think', 7),\n",
       " ('customer', 7),\n",
       " ('voice', 7),\n",
       " ('second', 7),\n",
       " ('put', 7),\n",
       " ('talk', 7),\n",
       " ('sure', 7),\n",
       " ('die', 7),\n",
       " ('sometimes', 7),\n",
       " ('repair', 7),\n",
       " ('first', 6),\n",
       " ('hand', 6),\n",
       " ('ship', 6),\n",
       " ('hear', 6),\n",
       " ('us', 6),\n",
       " ('replace', 6),\n",
       " ('return', 6),\n",
       " ('useless', 6),\n",
       " ('last', 6)]"
      ]
     },
     "execution_count": 29,
     "metadata": {},
     "output_type": "execute_result"
    }
   ],
   "source": [
    "cf=Counter(word_tokenize(words))\n",
    "cf.most_common(100)"
   ]
  },
  {
   "cell_type": "code",
   "execution_count": 24,
   "metadata": {},
   "outputs": [],
   "source": [
    "import matplotlib.pyplot as plt\n",
    "from wordcloud import WordCloud"
   ]
  },
  {
   "cell_type": "code",
   "execution_count": 56,
   "metadata": {
    "scrolled": false
   },
   "outputs": [],
   "source": [
    "def wordcloud_draw(data, color = 'white'):\n",
    "    wordcloud = WordCloud(\n",
    "                      background_color=color,\n",
    "                      width=2500,\n",
    "                      height=2000\n",
    "                     ).generate(data)\n",
    "    plt.figure(1,figsize=(13, 13))\n",
    "    plt.imshow(wordcloud)\n",
    "    plt.title('WordCloud_Negative')\n",
    "    plt.savefig('neg_WC.jpg')\n",
    "    plt.close()"
   ]
  },
  {
   "cell_type": "code",
   "execution_count": 57,
   "metadata": {},
   "outputs": [],
   "source": [
    "wordcloud_draw(words)"
   ]
  },
  {
   "cell_type": "code",
   "execution_count": null,
   "metadata": {},
   "outputs": [],
   "source": []
  }
 ],
 "metadata": {
  "kernelspec": {
   "display_name": "Python 3",
   "language": "python",
   "name": "python3"
  },
  "language_info": {
   "codemirror_mode": {
    "name": "ipython",
    "version": 3
   },
   "file_extension": ".py",
   "mimetype": "text/x-python",
   "name": "python",
   "nbconvert_exporter": "python",
   "pygments_lexer": "ipython3",
   "version": "3.6.5"
  }
 },
 "nbformat": 4,
 "nbformat_minor": 2
}
